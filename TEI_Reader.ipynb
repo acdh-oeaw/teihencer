{
 "cells": [
  {
   "cell_type": "code",
   "execution_count": 142,
   "metadata": {
    "collapsed": true
   },
   "outputs": [],
   "source": [
    "import lxml.etree as ET\n",
    "import hashlib"
   ]
  },
  {
   "cell_type": "code",
   "execution_count": 156,
   "metadata": {},
   "outputs": [],
   "source": [
    "class TeiReader():\n",
    "    def __init__(self, file):\n",
    "        self.ns_tei = {'tei': \"http://www.tei-c.org/ns/1.0\"}\n",
    "        self.ns_xml = {'xml': \"http://www.w3.org/XML/1998/namespace\"}\n",
    "        self.file = file\n",
    "        try:\n",
    "            self.tree = ET.parse(file)\n",
    "        except:\n",
    "            None\n",
    "        try:\n",
    "            self.parsed_file = ET.tostring(self.tree, encoding=\"utf-8\")\n",
    "        except:\n",
    "            self.parsed_file = \"parsing didn't work\"\n",
    "    \n",
    "    def find_elements(self, tei_element='placeName'):\n",
    "        result = {'tei_element': tei_element}\n",
    "        result['hits'] = self.tree.xpath('//tei:text//tei:{}'.format(tei_element), namespaces=self.ns_tei)\n",
    "        result['nr_of_hits'] = len(result['hits'])\n",
    "        return result\n",
    "    \n",
    "    def add_ids(self, tei_element='placeName', id_prefix='some', export=True, export_file=\"some\"):\n",
    "        hits = self.find_elements(tei_element)['hits']\n",
    "        ids = []\n",
    "        for x in hits:\n",
    "            if x.text is None:\n",
    "                break\n",
    "            else:\n",
    "                ref = hashlib.md5(x.text.encode('utf-8')).hexdigest()\n",
    "            x.attrib['ref'] = \"#{}_{}\".format(id_prefix, ref)\n",
    "            ids.append({x.text: x.attrib['ref']})\n",
    "            if export:\n",
    "                file = \"{}.xml\".format(export_file)\n",
    "                with open(file, 'wb') as f:\n",
    "                    f.write(ET.tostring(self.tree, pretty_print=True))\n",
    "        return ids\n",
    "        "
   ]
  },
  {
   "cell_type": "code",
   "execution_count": 157,
   "metadata": {},
   "outputs": [],
   "source": [
    "hansi = TeiReader(\"teihencer-data/placeNoRef.xml\")"
   ]
  },
  {
   "cell_type": "code",
   "execution_count": 162,
   "metadata": {},
   "outputs": [],
   "source": [
    "persons = hansi.add_ids(tei_element='placeName', id_prefix='place', export_file='teihencer-data/new')"
   ]
  }
 ],
 "metadata": {
  "kernelspec": {
   "display_name": "Django Shell-Plus",
   "language": "python",
   "name": "django_extensions"
  },
  "language_info": {
   "codemirror_mode": {
    "name": "ipython",
    "version": 3
   },
   "file_extension": ".py",
   "mimetype": "text/x-python",
   "name": "python",
   "nbconvert_exporter": "python",
   "pygments_lexer": "ipython3",
   "version": "3.5.3"
  }
 },
 "nbformat": 4,
 "nbformat_minor": 2
}
