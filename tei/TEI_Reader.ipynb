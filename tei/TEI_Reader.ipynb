{
 "cells": [
  {
   "cell_type": "code",
   "execution_count": 84,
   "metadata": {
    "collapsed": true
   },
   "outputs": [],
   "source": [
    "import lxml.etree as ET\n",
    "import hashlib\n",
    "from templates import templates"
   ]
  },
  {
   "cell_type": "code",
   "execution_count": 80,
   "metadata": {},
   "outputs": [],
   "source": [
    "class TeiReader():\n",
    "    \n",
    "    \"\"\" a class to read an process tei-documents\"\"\"\n",
    "    \n",
    "    def __init__(self, file):\n",
    "        self.ns_tei = {'tei': \"http://www.tei-c.org/ns/1.0\"}\n",
    "        self.ns_xml = {'xml': \"http://www.w3.org/XML/1998/namespace\"}\n",
    "        self.file = file\n",
    "        try:\n",
    "            self.tree = ET.parse(file)\n",
    "        except:\n",
    "            None\n",
    "        try:\n",
    "            self.parsed_file = ET.tostring(self.tree, encoding=\"utf-8\")\n",
    "        except:\n",
    "            self.parsed_file = \"parsing didn't work\"\n",
    "    \n",
    "    def create_place(self, xml_id=\"something\", text=\"someplace\"):\n",
    "        \n",
    "        \"\"\" creates a tei:place element with an @xml:id and a child element tei:placeName\"\"\"\n",
    "        \n",
    "        place = ET.Element(\"place\")\n",
    "        place.attrib['{http://www.w3.org/XML/1998/namespace}id'] = xml_id\n",
    "        placeName = ET.Element(\"placeName\")\n",
    "        placeName.text = text\n",
    "        place.append(placeName)\n",
    "        return place\n",
    "    \n",
    "    def get_places_elements(self, ids):\n",
    "        \n",
    "        \"\"\" takes a list of elements with a text node and a @ref attribute and returns a tei:placeList\"\"\"\n",
    "        \n",
    "        places = []\n",
    "        for x in ids:\n",
    "            text = x['text']\n",
    "            ref = x['ref'][1:]\n",
    "            place = (text, ref)\n",
    "            places.append(place)\n",
    "        place_elements = []\n",
    "        for text, ref in set(places):\n",
    "            place = self.create_place(ref, text)\n",
    "            place_elements.append(place)\n",
    "        return place_elements\n",
    "    \n",
    "    def find_elements(self, tei_element='placeName'):\n",
    "        \n",
    "        \"\"\" parses a tei:TEI//tei:text element,\n",
    "        * extracts all nodes matching tei_element,\n",
    "        * and reaturns a dictionary containing\n",
    "        ** the name of the searched element: 'tei_element',\n",
    "        ** the number of hits: 'nr_of_hits', \n",
    "        ** and a list of the found element (as lxml element objects)\n",
    "        \"\"\"\n",
    "        \n",
    "        result = {'tei_element': tei_element}\n",
    "        result['hits'] = self.tree.xpath('//tei:text//tei:{}'.format(tei_element), namespaces=self.ns_tei)\n",
    "        result['nr_of_hits'] = len(result['hits'])\n",
    "        return result\n",
    "    \n",
    "    def add_ids(self, tei_element='placeName', id_prefix='some', export=False, export_file=\"updated\"):\n",
    "        \n",
    "        \"\"\" reads an tei-xml document\n",
    "        * looks for tei_elements,\n",
    "        * adds generic @ref (hashed text-node),\n",
    "        * and returns a tuple containing \n",
    "        ** a list of elements,\n",
    "        ** and the updated xml-tree object.\n",
    "        \"\"\"\n",
    "        \n",
    "        hits = self.find_elements(tei_element)['hits']\n",
    "        ids = []\n",
    "        for x in hits:\n",
    "            if x.text is None:\n",
    "                break\n",
    "            if x.attrib['ref'] is not None:\n",
    "                ids.append({'text': x.text, 'ref': x.attrib['ref'], 'node': x})                \n",
    "            else:\n",
    "                ref = hashlib.md5(x.text.encode('utf-8')).hexdigest()\n",
    "                x.attrib['ref'] = \"#{}_{}\".format(id_prefix, ref)\n",
    "                ids.append({'text': x.text, 'ref': x.attrib['ref'], 'node': x})\n",
    "        if export:\n",
    "            file = \"{}.xml\".format(export_file)\n",
    "            with open(file, 'wb') as f:\n",
    "                f.write(ET.tostring(self.tree, pretty_print=True,encoding=\"UTF-8\"))\n",
    "        return ids, self.tree\n",
    "        \n",
    "    def create_index(self, tei_element='placeName', id_prefix='place'):\n",
    "        \n",
    "        \"\"\" takes a list of elements and transforms them into an index-file\"\"\"\n",
    "        \n",
    "        nodes = self.add_ids(tei_element, id_prefix)[0]\n",
    "        places = self.get_places_elements(nodes)\n",
    "        list_place = ET.Element(\"listPlace\")\n",
    "        for x in places:\n",
    "            list_place.append(x)\n",
    "        new_doc = ET.fromstring(templates.tei_document)\n",
    "        body = new_doc.xpath('//tei:body', namespaces=self.ns_tei)[0]\n",
    "        body.append(list_place)      \n",
    "        return new_doc\n",
    "    \n",
    "    def export_index(self, tei_element='placeName', id_prefix='place', export_file='index'):\n",
    "        new_doc = self.create_index(tei_element, id_prefix)\n",
    "        file = \"{}.xml\".format(export_file)\n",
    "        with open(file, 'wb') as f:\n",
    "            f.write(ET.tostring(new_doc, pretty_print=True, encoding=\"UTF-8\"))\n",
    "        return \"file stored as {}\".format(file)"
   ]
  },
  {
   "cell_type": "code",
   "execution_count": 81,
   "metadata": {
    "collapsed": true
   },
   "outputs": [],
   "source": [
    "test = TeiReader('data/output/new.xml')"
   ]
  },
  {
   "cell_type": "code",
   "execution_count": 83,
   "metadata": {},
   "outputs": [],
   "source": [
    "hits = test.add_ids(export=True)"
   ]
  },
  {
   "cell_type": "code",
   "execution_count": 59,
   "metadata": {},
   "outputs": [
    {
     "data": {
      "text/plain": [
       "b'<TEI xmlns=\"http://www.tei-c.org/ns/1.0\">\\n  <teiHeader>\\n      <fileDesc>\\n         <titleStmt>\\n            <title/>\\n         </titleStmt>\\n         <publicationStmt>\\n            <p/>\\n         </publicationStmt>\\n         <sourceDesc>\\n            <p/>\\n         </sourceDesc>\\n      </fileDesc>\\n  </teiHeader>\\n  <text>\\n      <body>\\n      <listPlace><place xml:id=\"some_273c6fe7cd0300c46e98e05cc3414e33\"><placeName>Quaipark</placeName></place><place xml:id=\"some_160b5b00de22ae4c96a1e90460b8c441\"><placeName>Mallnitz</placeName></place><place xml:id=\"some_f1efe1f6313c4676413f70db8feb79f6\"><placeName>Spittal</placeName></place><place xml:id=\"some_8d52cda5b0caaafb17915b780d894888\"><placeName>Gastein</placeName></place><place xml:id=\"some_6924ee63c56474bfac826b3b7e0714cd\"><placeName>Heiligenblut</placeName></place><place xml:id=\"some_6fc6f10422bfe80ddcba23b4f7f080dc\"><placeName>Hietzing</placeName></place><place xml:id=\"some_36cb84b200c47d2c7a7e8dbbe3c1a595\"><placeName>Wiednerth.</placeName></place><place xml:id=\"some_4e4ebd22030e3e4a57e148e0b6df3bb0\"><placeName>St. Johann</placeName></place><place xml:id=\"some_a3c7fe0abd84cd0be2c8339f5fb2a969\"><placeName>Lend</placeName></place><place xml:id=\"some_b4e224f0caf47c0f57802484c88cb858\"><placeName>P&#246;rtschach</placeName></place><place xml:id=\"some_7aec3f10ff70ac8959ef2f530d047440\"><placeName>V.&#8213;</placeName></place><place xml:id=\"some_cf3852a9caa7e6fa92cb96ed9e5643c1\"><placeName>Wolfgang-</placeName></place><place xml:id=\"some_d7f977f9a16210838a0dd6b32f6fb25d\"><placeName>Volksgarten</placeName></place><place xml:id=\"some_d533f22e7175d6063cb4c4286fb92c0c\"><placeName>Gmunden</placeName></place><place xml:id=\"some_82a764fddf35a8309e62c52b2bcc04a1\"><placeName>Neubau</placeName></place><place xml:id=\"some_a2daf4da47b1d983d75de80c73e4aac2\"><placeName>V&#246;slau</placeName></place><place xml:id=\"some_d0a6343a081a7335baa965ce4fd0845c\"><placeName>M&#252;nchen</placeName></place><place xml:id=\"some_4d20f079bfe1a95d5595e8064393ab40\"><placeName>Lienz</placeName></place><place xml:id=\"some_e20d37a5d7fcc4c35be6fc18a8e71bfa\"><placeName>Paris</placeName></place><place xml:id=\"some_7ed4496167f8edc24d094798be1c9cc8\"><placeName>K&#246;nigssee</placeName></place><place xml:id=\"some_235bb2764e0db2935b53aa66c95dda96\"><placeName>Winklern</placeName></place><place xml:id=\"some_d88cb933fd1ac82146b798ab933c837c\"><placeName>Kals</placeName></place><place xml:id=\"some_08222c6cb47514f7f5957bb681b5469d\"><placeName>R.park</placeName></place><place xml:id=\"some_0d630f309cd8eaead4c6693378f162fb\"><placeName>Villach</placeName></place><place xml:id=\"some_b69137a4d7f1bc5b9fa27e655151af34\"><placeName>P.</placeName></place><place xml:id=\"some_fed0640715fd3a0b37041bc44191bbf0\"><placeName>Obervellach</placeName></place><place xml:id=\"some_75241beccf4ee2461aac8b48c394922f\"><placeName>Toblach</placeName></place><place xml:id=\"some_00d8fc87f2dce5826effe3206e02b3eb\"><placeName>Attersee</placeName></place><place xml:id=\"some_ccd2a8ffe72453fd32a08412ff1ff875\"><placeName>W&#246;rthersee</placeName></place><place xml:id=\"some_064b559a47f97cda67f232c0c6f94ccd\"><placeName>Volksg.</placeName></place><place xml:id=\"some_096fe15a391b374b49743494cd0f762d\"><placeName>Grundlsee</placeName></place><place xml:id=\"some_e9a0bb1cfe770648982dfc20ff12ab11\"><placeName>Matzleinsdorferth.</placeName></place><place xml:id=\"some_c53290a5b61793c14730914e3a95d48b\"><placeName>St.Bartolom&#228;</placeName></place><place xml:id=\"some_da917b2d10cfdda007fe6b33af58c202\"><placeName>Golling</placeName></place><place xml:id=\"some_908fa2dca685e016b146ab3e75b842ad\"><placeName>Mond-</placeName></place><place xml:id=\"some_f7688f95685985f806fab40e78596fe8\"><placeName>Hallein</placeName></place><place xml:id=\"some_b06c26aed02d969d0f2315ba11b5432b\"><placeName>B.</placeName></place><place xml:id=\"some_6c77351074b8699987e7f04e7856b3ab\"><placeName>Hallstatt</placeName></place><place xml:id=\"some_e08f67e87755f34f857023df12e0fde1\"><placeName>Mariahilf</placeName></place><place xml:id=\"some_2011d9fb5f08c44e869959081a52585e\"><placeName>Huben</placeName></place><place xml:id=\"some_a34f3edea7fc20cc4881bf4f5a7ac8ac\"><placeName>Millstatt</placeName></place><place xml:id=\"some_ea6515eca27ae68c06c82e8cc2a6d318\"><placeName>Salzburg</placeName></place><place xml:id=\"some_545f7ec8bc1325bdac82810a658c0639\"><placeName>Na&#223;feldtauern</placeName></place><place xml:id=\"some_0f7cf39acda1bf32c1aee91e4ce7b3c5\"><placeName>B&#246;ckstein</placeName></place><place xml:id=\"some_10610ec60fcdfbccb325e1eec16a82ad\"><placeName>Berchtesgaden</placeName></place><place xml:id=\"some_1b388e3352c32b76b8d975c4d3625070\"><placeName>Wien</placeName></place><place xml:id=\"some_86a694cf5ce5552ca627cb96b607eccd\"><placeName>Prater</placeName></place><place xml:id=\"some_b181c43993de481ea462a2bfe11f0a1b\"><placeName>Cairo</placeName></place><place xml:id=\"some_ada8084a1dd65bd7ec0f037be05afd9b\"><placeName>Lichtensteinklamm</placeName></place><place xml:id=\"some_f5af0e4beb99b2ded62ac5ff72643954\"><placeName>Dornbach</placeName></place><place xml:id=\"some_c2ad928214981e457405589604924059\"><placeName>Ischl</placeName></place><place xml:id=\"some_43391b8070da191d103a657ab8ad2782\"><placeName>Volkg.</placeName></place><place xml:id=\"some_23a3951726f7dafaf2c5fa4dc957ddae\"><placeName>Wiens</placeName></place><place xml:id=\"some_51b85b043b4723dd90172fa3e1144866\"><placeName>Obersee</placeName></place><place xml:id=\"some_dcbb398efe15159311bf100f3e394aa7\"><placeName>Millst&#228;ttersee</placeName></place></listPlace></body>\\n  </text>\\n</TEI>'"
      ]
     },
     "execution_count": 59,
     "metadata": {},
     "output_type": "execute_result"
    }
   ],
   "source": [
    "ET.tostring(hits)"
   ]
  },
  {
   "cell_type": "code",
   "execution_count": null,
   "metadata": {
    "collapsed": true
   },
   "outputs": [],
   "source": []
  }
 ],
 "metadata": {
  "kernelspec": {
   "display_name": "Django Shell-Plus",
   "language": "python",
   "name": "django_extensions"
  },
  "language_info": {
   "codemirror_mode": {
    "name": "ipython",
    "version": 3
   },
   "file_extension": ".py",
   "mimetype": "text/x-python",
   "name": "python",
   "nbconvert_exporter": "python",
   "pygments_lexer": "ipython3",
   "version": "3.5.3"
  }
 },
 "nbformat": 4,
 "nbformat_minor": 2
}
