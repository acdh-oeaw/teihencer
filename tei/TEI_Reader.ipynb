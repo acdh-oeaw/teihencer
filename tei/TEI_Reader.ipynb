{
 "cells": [
  {
   "cell_type": "code",
   "execution_count": 1,
   "metadata": {
    "collapsed": true
   },
   "outputs": [],
   "source": [
    "import lxml.etree as ET\n",
    "import hashlib\n",
    "from templates import templates"
   ]
  },
  {
   "cell_type": "code",
   "execution_count": 45,
   "metadata": {},
   "outputs": [],
   "source": [
    "class TeiReader():\n",
    "\n",
    "    \"\"\" a class to read an process tei-documents\"\"\"\n",
    "\n",
    "    def __init__(self, file):\n",
    "        self.ns_tei = {'tei': \"http://www.tei-c.org/ns/1.0\"}\n",
    "        self.ns_xml = {'xml': \"http://www.w3.org/XML/1998/namespace\"}\n",
    "        self.file = file\n",
    "        try:\n",
    "            self.original = ET.parse(file)\n",
    "        except:\n",
    "            None\n",
    "        try:\n",
    "            self.tree = ET.parse(file)\n",
    "        except:\n",
    "            None\n",
    "        try:\n",
    "            self.parsed_file = ET.tostring(self.tree, encoding=\"utf-8\")\n",
    "        except:\n",
    "            self.parsed_file = \"parsing didn't work\"\n",
    "\n",
    "    def create_place(self, xml_id=\"something\", text=\"someplace\"):\n",
    "\n",
    "        \"\"\" creates a tei:place element with an @xml:id\n",
    "        and a child element tei:placeName\"\"\"\n",
    "\n",
    "        place = ET.Element(\"place\")\n",
    "        place.attrib['{http://www.w3.org/XML/1998/namespace}id'] = xml_id\n",
    "        placeName = ET.Element(\"placeName\")\n",
    "        placeName.text = text\n",
    "        place.append(placeName)\n",
    "        return place\n",
    "\n",
    "    def get_places_elements(self, ids):\n",
    "\n",
    "        \"\"\" takes a list of elements with a text node\n",
    "        and a @ref attribute and returns a tei:place elements\n",
    "        * with an xml:id,\n",
    "        * and a placeName child element\"\"\"\n",
    "\n",
    "        places = []\n",
    "        for x in ids:\n",
    "            text = x['text']\n",
    "            ref = x['ref'][1:]\n",
    "            place = (text, ref)\n",
    "            places.append(place)\n",
    "        place_elements = []\n",
    "        for text, ref in set(places):\n",
    "            place = self.create_place(ref, text)\n",
    "            place_elements.append(place)\n",
    "        return place_elements\n",
    "\n",
    "    def find_elements(self, tei_element='placeName'):\n",
    "\n",
    "        \"\"\" parses a tei:TEI//tei:text element,\n",
    "        * extracts all nodes matching tei_element,\n",
    "        * and reaturns a dictionary containing\n",
    "        ** the name of the searched element: 'tei_element',\n",
    "        ** the number of hits: 'nr_of_hits',\n",
    "        ** and a list of the found element (as lxml element objects)\n",
    "        \"\"\"\n",
    "\n",
    "        result = {'tei_element': tei_element}\n",
    "        result['hits'] = self.tree.xpath(\n",
    "            '//tei:text//tei:{}'.format(tei_element), namespaces=self.ns_tei\n",
    "        )\n",
    "        result['nr_of_hits'] = len(result['hits'])\n",
    "        return result\n",
    "\n",
    "    def add_ids(self, tei_element='placeName', id_prefix='some'):\n",
    "\n",
    "        \"\"\" reads an tei-xml document\n",
    "        * looks for tei_elements,\n",
    "        * adds generic @ref (hashed text-node),\n",
    "        * and returns a tuple containing\n",
    "        ** a list of elements,\n",
    "        ** and the updated xml-tree object.\n",
    "        \"\"\"\n",
    "\n",
    "        hits = self.find_elements(tei_element)['hits']\n",
    "        ids = []\n",
    "        for x in hits:\n",
    "            if x.text is None:\n",
    "                break\n",
    "            try:\n",
    "                x.attrib['ref']\n",
    "                ids.append({'text': x.text, 'ref': x.attrib['ref'], 'node': x})\n",
    "            except:\n",
    "                ref = hashlib.md5(x.text.encode('utf-8')).hexdigest()\n",
    "                x.attrib['ref'] = \"#{}_{}\".format(id_prefix, ref)\n",
    "                ids.append({'text': x.text, 'ref': x.attrib['ref'], 'node': x})\n",
    "        return ids, self.tree\n",
    "\n",
    "    def create_index(self, nodes):\n",
    "\n",
    "        \"\"\" takes a list of elements and transforms them into an index-file\"\"\"\n",
    "\n",
    "        places = self.get_places_elements(nodes)\n",
    "        list_place = ET.Element(\"listPlace\")\n",
    "        for x in places:\n",
    "            list_place.append(x)\n",
    "        new_doc = ET.fromstring(templates.tei_document)\n",
    "        body = new_doc.xpath('//tei:body', namespaces=self.ns_tei)[0]\n",
    "        body.append(list_place)\n",
    "        return new_doc\n",
    "\n",
    "    def export_tei(self, tei_doc, export_file='teihencer_export.xml'):\n",
    "\n",
    "        \"\"\" writes any xml node to a file \"\"\"\n",
    "\n",
    "        file = export_file\n",
    "        with open(file, 'wb') as f:\n",
    "            f.write(ET.tostring(tei_doc, pretty_print=True, encoding=\"UTF-8\"))\n",
    "        return \"file stored as {}\".format(file)"
   ]
  },
  {
   "cell_type": "code",
   "execution_count": 46,
   "metadata": {
    "collapsed": true
   },
   "outputs": [],
   "source": [
    "hansi = TeiReader('data/placeNoRef.xml')"
   ]
  },
  {
   "cell_type": "code",
   "execution_count": 47,
   "metadata": {},
   "outputs": [],
   "source": [
    "new_id = hansi.add_ids()"
   ]
  },
  {
   "cell_type": "code",
   "execution_count": 48,
   "metadata": {},
   "outputs": [],
   "source": [
    "index = hansi.create_index(new_id[0])"
   ]
  },
  {
   "cell_type": "code",
   "execution_count": 49,
   "metadata": {},
   "outputs": [
    {
     "data": {
      "text/plain": [
       "<Element {http://www.tei-c.org/ns/1.0}TEI at 0x109ebe80e88>"
      ]
     },
     "execution_count": 49,
     "metadata": {},
     "output_type": "execute_result"
    }
   ],
   "source": [
    "index"
   ]
  },
  {
   "cell_type": "code",
   "execution_count": 50,
   "metadata": {},
   "outputs": [
    {
     "data": {
      "text/plain": [
       "'file stored as hansi.xml'"
      ]
     },
     "execution_count": 50,
     "metadata": {},
     "output_type": "execute_result"
    }
   ],
   "source": [
    "hansi.export_tei(index, \"hansi.xml\")"
   ]
  },
  {
   "cell_type": "code",
   "execution_count": null,
   "metadata": {
    "collapsed": true
   },
   "outputs": [],
   "source": []
  }
 ],
 "metadata": {
  "kernelspec": {
   "display_name": "Django Shell-Plus",
   "language": "python",
   "name": "django_extensions"
  },
  "language_info": {
   "codemirror_mode": {
    "name": "ipython",
    "version": 3
   },
   "file_extension": ".py",
   "mimetype": "text/x-python",
   "name": "python",
   "nbconvert_exporter": "python",
   "pygments_lexer": "ipython3",
   "version": "3.5.3"
  }
 },
 "nbformat": 4,
 "nbformat_minor": 2
}
